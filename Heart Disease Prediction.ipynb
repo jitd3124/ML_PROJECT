{
 "cells": [
  {
   "cell_type": "code",
   "execution_count": 63,
   "metadata": {},
   "outputs": [],
   "source": [
    "import os\n",
    "import sys\n",
    "spark_path = r\"C:\\spark-2.3.1-bin-hadoop2.7\" # spark installed folder\n",
    "os.environ['SPARK_HOME'] = spark_path\n",
    "sys.path.insert(0, spark_path + \"/bin\")\n",
    "sys.path.insert(0, spark_path + \"/python/pyspark/\")\n",
    "sys.path.insert(0, spark_path + \"/python/lib/pyspark.zip\")\n",
    "sys.path.insert(0, spark_path + \"/python/lib/py4j-0.10.7-src.zip\")\n",
    "\n",
    "\n",
    "\n",
    "from pyspark.sql import SparkSession\n",
    "import pyspark.sql as sparksql\n",
    "spark = SparkSession.builder.appName('stroke').getOrCreate()\n",
    "train = spark.read.csv('C:/Users/pkdut/OneDrive/Desktop/2/train_2v.csv', inferSchema=True,header=True)\n"
   ]
  },
  {
   "cell_type": "code",
   "execution_count": 2,
   "metadata": {},
   "outputs": [
    {
     "data": {
      "text/plain": [
       "DataFrame[id: int, gender: string, age: double, hypertension: int, heart_disease: int, ever_married: string, work_type: string, Residence_type: string, avg_glucose_level: double, bmi: double, smoking_status: string, stroke: int]"
      ]
     },
     "execution_count": 2,
     "metadata": {},
     "output_type": "execute_result"
    }
   ],
   "source": [
    "train"
   ]
  },
  {
   "cell_type": "code",
   "execution_count": 64,
   "metadata": {},
   "outputs": [],
   "source": [
    "test = spark.read.csv('C:/Users/pkdut/OneDrive/Desktop/2/test_2v.csv', inferSchema=True,header=True)"
   ]
  },
  {
   "cell_type": "code",
   "execution_count": 4,
   "metadata": {},
   "outputs": [
    {
     "data": {
      "text/plain": [
       "DataFrame[id: int, gender: string, age: double, hypertension: int, heart_disease: int, ever_married: string, work_type: string, Residence_type: string, avg_glucose_level: double, bmi: double, smoking_status: string]"
      ]
     },
     "execution_count": 4,
     "metadata": {},
     "output_type": "execute_result"
    }
   ],
   "source": [
    "test\n"
   ]
  },
  {
   "cell_type": "code",
   "execution_count": 5,
   "metadata": {},
   "outputs": [
    {
     "name": "stdout",
     "output_type": "stream",
     "text": [
      "root\n",
      " |-- id: integer (nullable = true)\n",
      " |-- gender: string (nullable = true)\n",
      " |-- age: double (nullable = true)\n",
      " |-- hypertension: integer (nullable = true)\n",
      " |-- heart_disease: integer (nullable = true)\n",
      " |-- ever_married: string (nullable = true)\n",
      " |-- work_type: string (nullable = true)\n",
      " |-- Residence_type: string (nullable = true)\n",
      " |-- avg_glucose_level: double (nullable = true)\n",
      " |-- bmi: double (nullable = true)\n",
      " |-- smoking_status: string (nullable = true)\n",
      " |-- stroke: integer (nullable = true)\n",
      "\n"
     ]
    }
   ],
   "source": [
    "train.printSchema()"
   ]
  },
  {
   "cell_type": "code",
   "execution_count": 6,
   "metadata": {},
   "outputs": [
    {
     "data": {
      "text/plain": [
       "[('id', 'int'),\n",
       " ('gender', 'string'),\n",
       " ('age', 'double'),\n",
       " ('hypertension', 'int'),\n",
       " ('heart_disease', 'int'),\n",
       " ('ever_married', 'string'),\n",
       " ('work_type', 'string'),\n",
       " ('Residence_type', 'string'),\n",
       " ('avg_glucose_level', 'double'),\n",
       " ('bmi', 'double'),\n",
       " ('smoking_status', 'string'),\n",
       " ('stroke', 'int')]"
      ]
     },
     "execution_count": 6,
     "metadata": {},
     "output_type": "execute_result"
    }
   ],
   "source": [
    "train.dtypes"
   ]
  },
  {
   "cell_type": "code",
   "execution_count": 7,
   "metadata": {},
   "outputs": [
    {
     "data": {
      "text/plain": [
       "[Row(id=30669, gender='Male', age=3.0, hypertension=0, heart_disease=0, ever_married='No', work_type='children', Residence_type='Rural', avg_glucose_level=95.12, bmi=18.0, smoking_status=None, stroke=0),\n",
       " Row(id=30468, gender='Male', age=58.0, hypertension=1, heart_disease=0, ever_married='Yes', work_type='Private', Residence_type='Urban', avg_glucose_level=87.96, bmi=39.2, smoking_status='never smoked', stroke=0),\n",
       " Row(id=16523, gender='Female', age=8.0, hypertension=0, heart_disease=0, ever_married='No', work_type='Private', Residence_type='Urban', avg_glucose_level=110.89, bmi=17.6, smoking_status=None, stroke=0),\n",
       " Row(id=56543, gender='Female', age=70.0, hypertension=0, heart_disease=0, ever_married='Yes', work_type='Private', Residence_type='Rural', avg_glucose_level=69.04, bmi=35.9, smoking_status='formerly smoked', stroke=0),\n",
       " Row(id=46136, gender='Male', age=14.0, hypertension=0, heart_disease=0, ever_married='No', work_type='Never_worked', Residence_type='Rural', avg_glucose_level=161.28, bmi=19.1, smoking_status=None, stroke=0)]"
      ]
     },
     "execution_count": 7,
     "metadata": {},
     "output_type": "execute_result"
    }
   ],
   "source": [
    "train.head(5)"
   ]
  },
  {
   "cell_type": "code",
   "execution_count": 10,
   "metadata": {},
   "outputs": [
    {
     "name": "stdout",
     "output_type": "stream",
     "text": [
      "+-------+------------------+------+------------------+-------------------+--------------------+------------+---------+--------------+------------------+------------------+---------------+\n",
      "|summary|                id|gender|               age|       hypertension|       heart_disease|ever_married|work_type|Residence_type| avg_glucose_level|               bmi| smoking_status|\n",
      "+-------+------------------+------+------------------+-------------------+--------------------+------------+---------+--------------+------------------+------------------+---------------+\n",
      "|  count|             18601| 18601|             18601|              18601|               18601|       18601|    18601|         18601|             18601|             18010|          12850|\n",
      "|   mean| 36747.36804472878|  null|42.056504489006024|0.09316703403042847|0.048061932154185256|        null|     null|          null| 104.3863593355191|28.545324819544625|           null|\n",
      "| stddev|21053.151123778684|  null|22.528017622414048|0.29067418204733125| 0.21390288127048365|        null|     null|          null|42.606714400087824| 7.757091805747331|           null|\n",
      "|    min|                 2|Female|              0.08|                  0|                   0|          No| Govt_job|         Rural|              55.0|              10.2|formerly smoked|\n",
      "|    max|             72942| Other|              82.0|                  1|                   1|         Yes| children|         Urban|            275.72|              88.3|         smokes|\n",
      "+-------+------------------+------+------------------+-------------------+--------------------+------------+---------+--------------+------------------+------------------+---------------+\n",
      "\n"
     ]
    }
   ],
   "source": [
    "test.describe().show()"
   ]
  },
  {
   "cell_type": "code",
   "execution_count": 11,
   "metadata": {},
   "outputs": [
    {
     "name": "stdout",
     "output_type": "stream",
     "text": [
      "+------+-----+\n",
      "|stroke|count|\n",
      "+------+-----+\n",
      "|     1|  783|\n",
      "|     0|42617|\n",
      "+------+-----+\n",
      "\n"
     ]
    }
   ],
   "source": [
    "train.groupBy('stroke').count().show()"
   ]
  },
  {
   "cell_type": "code",
   "execution_count": 12,
   "metadata": {},
   "outputs": [],
   "source": [
    "train.createOrReplaceTempView('table')"
   ]
  },
  {
   "cell_type": "code",
   "execution_count": 13,
   "metadata": {},
   "outputs": [
    {
     "name": "stdout",
     "output_type": "stream",
     "text": [
      "+-------------+---------------+\n",
      "|    work_type|work_type_count|\n",
      "+-------------+---------------+\n",
      "|      Private|            441|\n",
      "|Self-employed|            251|\n",
      "|     Govt_job|             89|\n",
      "|     children|              2|\n",
      "+-------------+---------------+\n",
      "\n",
      "+-------------+---------------+\n",
      "|    work_type|work_type_count|\n",
      "+-------------+---------------+\n",
      "|      Private|          24393|\n",
      "|Self-employed|           6542|\n",
      "|     children|           6154|\n",
      "|     Govt_job|           5351|\n",
      "| Never_worked|            177|\n",
      "+-------------+---------------+\n",
      "\n"
     ]
    }
   ],
   "source": [
    "spark.sql(\"SELECT work_type, COUNT(work_type) as work_type_count FROM table WHERE stroke == 1 GROUP BY work_type ORDER BY COUNT(work_type) DESC\").show()\n",
    "spark.sql(\"SELECT work_type, COUNT(work_type) as work_type_count FROM table WHERE stroke == 0 GROUP BY work_type ORDER BY COUNT(work_type) DESC\").show()"
   ]
  },
  {
   "cell_type": "code",
   "execution_count": 15,
   "metadata": {},
   "outputs": [
    {
     "name": "stdout",
     "output_type": "stream",
     "text": [
      "+------+------------+------------------+\n",
      "|gender|gender_count|        percentage|\n",
      "+------+------------+------------------+\n",
      "|  Male|         352|1.9860076732114647|\n",
      "+------+------------+------------------+\n",
      "\n",
      "+------+------------+------------------+\n",
      "|gender|gender_count|        percentage|\n",
      "+------+------------+------------------+\n",
      "|Female|         431|1.6793298266121177|\n",
      "+------+------------+------------------+\n",
      "\n"
     ]
    }
   ],
   "source": [
    "spark.sql(\"SELECT gender, COUNT(gender) as gender_count, COUNT(gender)*100/(SELECT COUNT(gender) FROM table WHERE gender == 'Male') as percentage FROM table WHERE stroke== 1 AND gender = 'Male' GROUP BY gender\").show()\n",
    "spark.sql(\"SELECT gender, COUNT(gender) as gender_count, COUNT(gender)*100/(SELECT COUNT(gender) FROM table WHERE gender == 'Female') as percentage FROM table WHERE stroke== 1 AND gender = 'Female' GROUP BY gender\").show()\n"
   ]
  },
  {
   "cell_type": "code",
   "execution_count": 16,
   "metadata": {},
   "outputs": [
    {
     "name": "stdout",
     "output_type": "stream",
     "text": [
      "+-----------------+\n",
      "|       percentage|\n",
      "+-----------------+\n",
      "|91.57088122605364|\n",
      "+-----------------+\n",
      "\n"
     ]
    }
   ],
   "source": [
    "spark.sql(\"SELECT COUNT(age)*100/(SELECT COUNT(age) FROM table WHERE stroke ==1) as percentage FROM table WHERE stroke == 1 AND age>=50\").show()"
   ]
  },
  {
   "cell_type": "code",
   "execution_count": 17,
   "metadata": {},
   "outputs": [
    {
     "name": "stdout",
     "output_type": "stream",
     "text": [
      "+-------+-----------------+------+------------------+-------------------+-------------------+------------+---------+--------------+------------------+------------------+---------------+-------------------+\n",
      "|summary|               id|gender|               age|       hypertension|      heart_disease|ever_married|work_type|Residence_type| avg_glucose_level|               bmi| smoking_status|             stroke|\n",
      "+-------+-----------------+------+------------------+-------------------+-------------------+------------+---------+--------------+------------------+------------------+---------------+-------------------+\n",
      "|  count|            43400| 43400|             43400|              43400|              43400|       43400|    43400|         43400|             43400|             41938|          30108|              43400|\n",
      "|   mean|36326.14235023042|  null| 42.21789400921646|0.09357142857142857|0.04751152073732719|        null|     null|          null|104.48274999999916|28.605038390004545|           null|0.01804147465437788|\n",
      "| stddev|21072.13487918279|  null|22.519648680503554|  0.291234906309397|0.21273274050209726|        null|     null|          null|  43.1117509512961| 7.770020497238766|           null|0.13310292280179215|\n",
      "|    min|                1|Female|              0.08|                  0|                  0|          No| Govt_job|         Rural|              55.0|              10.1|formerly smoked|                  0|\n",
      "|    max|            72943| Other|              82.0|                  1|                  1|         Yes| children|         Urban|            291.05|              97.6|         smokes|                  1|\n",
      "+-------+-----------------+------+------------------+-------------------+-------------------+------------+---------+--------------+------------------+------------------+---------------+-------------------+\n",
      "\n"
     ]
    }
   ],
   "source": [
    "train.describe().show()"
   ]
  },
  {
   "cell_type": "code",
   "execution_count": 65,
   "metadata": {},
   "outputs": [],
   "source": [
    "# As this is categorical data, we will add one data type \"No Info\" for the missing one\n",
    "train_f = train.na.fill('No Info', subset=['smoking_status'])\n",
    "test_f = test.na.fill('No Info', subset=['smoking_status'])"
   ]
  },
  {
   "cell_type": "code",
   "execution_count": 66,
   "metadata": {},
   "outputs": [],
   "source": [
    "# as this is numecial data , we will simple fill the missing values with mean\n",
    "from pyspark.sql.functions import mean\n",
    "mean = train_f.select(mean(train_f['bmi'])).collect()\n",
    "mean_bmi = mean[0][0]\n",
    "train_f = train_f.na.fill(mean_bmi,['bmi'])\n",
    "test_f = test_f.na.fill(mean_bmi,['bmi'])\n"
   ]
  },
  {
   "cell_type": "code",
   "execution_count": 20,
   "metadata": {},
   "outputs": [
    {
     "name": "stdout",
     "output_type": "stream",
     "text": [
      "+-------+-----------------+------+------------------+-------------------+-------------------+------------+---------+--------------+------------------+------------------+--------------+-------------------+\n",
      "|summary|               id|gender|               age|       hypertension|      heart_disease|ever_married|work_type|Residence_type| avg_glucose_level|               bmi|smoking_status|             stroke|\n",
      "+-------+-----------------+------+------------------+-------------------+-------------------+------------+---------+--------------+------------------+------------------+--------------+-------------------+\n",
      "|  count|            43400| 43400|             43400|              43400|              43400|       43400|    43400|         43400|             43400|             43400|         43400|              43400|\n",
      "|   mean|36326.14235023042|  null| 42.21789400921646|0.09357142857142857|0.04751152073732719|        null|     null|          null|104.48274999999916|28.605038390005145|          null|0.01804147465437788|\n",
      "| stddev|21072.13487918279|  null|22.519648680503554|  0.291234906309397|0.21273274050209726|        null|     null|          null|  43.1117509512961| 7.638023372051845|          null|0.13310292280179215|\n",
      "|    min|                1|Female|              0.08|                  0|                  0|          No| Govt_job|         Rural|              55.0|              10.1|       No Info|                  0|\n",
      "|    max|            72943| Other|              82.0|                  1|                  1|         Yes| children|         Urban|            291.05|              97.6|        smokes|                  1|\n",
      "+-------+-----------------+------+------------------+-------------------+-------------------+------------+---------+--------------+------------------+------------------+--------------+-------------------+\n",
      "\n"
     ]
    }
   ],
   "source": [
    "train_f.describe().show()"
   ]
  },
  {
   "cell_type": "code",
   "execution_count": 21,
   "metadata": {},
   "outputs": [
    {
     "name": "stdout",
     "output_type": "stream",
     "text": [
      "+-------+------------------+------+------------------+-------------------+--------------------+------------+---------+--------------+------------------+------------------+--------------+\n",
      "|summary|                id|gender|               age|       hypertension|       heart_disease|ever_married|work_type|Residence_type| avg_glucose_level|               bmi|smoking_status|\n",
      "+-------+------------------+------+------------------+-------------------+--------------------+------------+---------+--------------+------------------+------------------+--------------+\n",
      "|  count|             18601| 18601|             18601|              18601|               18601|       18601|    18601|         18601|             18601|             18601|         18601|\n",
      "|   mean| 36747.36804472878|  null|42.056504489006024|0.09316703403042847|0.048061932154185256|        null|     null|          null| 104.3863593355191|28.547222068087624|          null|\n",
      "| stddev|21053.151123778684|  null|22.528017622414048|0.29067418204733125| 0.21390288127048365|        null|     null|          null|42.606714400087824| 7.632866510574478|          null|\n",
      "|    min|                 2|Female|              0.08|                  0|                   0|          No| Govt_job|         Rural|              55.0|              10.2|       No Info|\n",
      "|    max|             72942| Other|              82.0|                  1|                   1|         Yes| children|         Urban|            275.72|              88.3|        smokes|\n",
      "+-------+------------------+------+------------------+-------------------+--------------------+------------+---------+--------------+------------------+------------------+--------------+\n",
      "\n"
     ]
    }
   ],
   "source": [
    "test_f.describe().show()"
   ]
  },
  {
   "cell_type": "code",
   "execution_count": 67,
   "metadata": {},
   "outputs": [],
   "source": [
    "from pyspark.ml.feature import StringIndexer\n",
    "indexer1 = StringIndexer(inputCol=\"gender\", outputCol=\"genderIndex\")\n",
    "indexer2 = StringIndexer(inputCol=\"ever_married\", outputCol=\"ever_marriedIndex\")\n",
    "indexer3 = StringIndexer(inputCol=\"work_type\", outputCol=\"work_typeIndex\")\n",
    "indexer4 = StringIndexer(inputCol=\"Residence_type\", outputCol=\"Residence_typeIndex\")\n",
    "indexer5 = StringIndexer(inputCol=\"smoking_status\", outputCol=\"smoking_statusIndex\")"
   ]
  },
  {
   "cell_type": "code",
   "execution_count": 68,
   "metadata": {},
   "outputs": [],
   "source": [
    "from pyspark.ml.feature import OneHotEncoderEstimator\n",
    "encoder = OneHotEncoderEstimator(inputCols=[\"genderIndex\",\"ever_marriedIndex\",\"work_typeIndex\",\"Residence_typeIndex\",\"smoking_statusIndex\"],\n",
    "                                 outputCols=[\"genderVec\",\"ever_marriedVec\",\"work_typeVec\",\"Residence_typeVec\",\"smoking_statusVec\"])"
   ]
  },
  {
   "cell_type": "code",
   "execution_count": 69,
   "metadata": {},
   "outputs": [],
   "source": [
    "from pyspark.ml.feature import VectorAssembler\n",
    "assembler = VectorAssembler(inputCols=['genderVec',\n",
    " 'age',\n",
    " 'hypertension',\n",
    " 'heart_disease',\n",
    " 'ever_marriedVec',\n",
    " 'work_typeVec',\n",
    " 'Residence_typeVec',\n",
    " 'avg_glucose_level',\n",
    " 'bmi',\n",
    " 'smoking_statusVec'],outputCol='features')"
   ]
  },
  {
   "cell_type": "code",
   "execution_count": 70,
   "metadata": {},
   "outputs": [],
   "source": [
    "from pyspark.ml.classification import DecisionTreeClassifier\n",
    "dtc = DecisionTreeClassifier(labelCol='stroke',featuresCol='features')"
   ]
  },
  {
   "cell_type": "code",
   "execution_count": 71,
   "metadata": {},
   "outputs": [],
   "source": [
    "from pyspark.ml import Pipeline\n",
    "pipeline = Pipeline(stages=[indexer1, indexer2, indexer3, indexer4, indexer5, encoder, assembler, dtc])"
   ]
  },
  {
   "cell_type": "code",
   "execution_count": 72,
   "metadata": {},
   "outputs": [],
   "source": [
    "# splitting training and validation data\n",
    "train_data,val_data = train_f.randomSplit([0.7,0.3])\n",
    "\n",
    "# training model pipeline with data\n",
    "model = pipeline.fit(train_data)"
   ]
  },
  {
   "cell_type": "code",
   "execution_count": 73,
   "metadata": {},
   "outputs": [
    {
     "name": "stdout",
     "output_type": "stream",
     "text": [
      "+----------+--------------------+------+--------------------+\n",
      "|prediction|         probability|stroke|            features|\n",
      "+----------+--------------------+------+--------------------+\n",
      "|       0.0|[0.99113737075332...|     0|(16,[1,2,5,6,11,1...|\n",
      "|       0.0|[0.99927698647964...|     0|(16,[0,2,5,6,10,1...|\n",
      "|       0.0|[0.94779366065879...|     0|(16,[0,2,5,6,10,1...|\n",
      "|       0.0|[0.99927698647964...|     0|(16,[1,2,8,11,12,...|\n",
      "|       0.0|[0.94779366065879...|     0|(16,[0,2,5,6,11,1...|\n",
      "+----------+--------------------+------+--------------------+\n",
      "only showing top 5 rows\n",
      "\n"
     ]
    }
   ],
   "source": [
    "dtc_predictions = model.transform(val_data)\n",
    "\n",
    "# Select example rows to display.\n",
    "dtc_predictions.select(\"prediction\",\"probability\", \"stroke\", \"features\").show(5)"
   ]
  },
  {
   "cell_type": "code",
   "execution_count": 81,
   "metadata": {},
   "outputs": [
    {
     "name": "stdout",
     "output_type": "stream",
     "text": [
      "A Decision Tree algorithm had an accuracy of: 98.11%\n",
      "A Decision Tree algorithm had an accuracy of: 97.18%\n",
      "A Decision Tree algorithm had an accuracy of: 50.00%\n"
     ]
    }
   ],
   "source": [
    "from pyspark.ml.evaluation import MulticlassClassificationEvaluator\n",
    "from pyspark.ml.evaluation import BinaryClassificationEvaluator\n",
    "\n",
    "# Select (prediction, true label) and compute test error\n",
    "acc_evaluator = MulticlassClassificationEvaluator(labelCol=\"stroke\", predictionCol=\"prediction\", metricName=\"accuracy\")\n",
    "acc_evaluator1 = MulticlassClassificationEvaluator(labelCol=\"stroke\", predictionCol=\"prediction\", metricName=\"f1\")\n",
    "acc_evaluator2 = BinaryClassificationEvaluator( rawPredictionCol=\"prediction\",labelCol=\"stroke\", metricName=\"areaUnderROC\")\n",
    "dtc_acc = acc_evaluator.evaluate(dtc_predictions)\n",
    "dtc_acc1 = acc_evaluator1.evaluate(dtc_predictions)\n",
    "dtc_acc2 = acc_evaluator2.evaluate(dtc_predictions)\n",
    "print('A Decision Tree algorithm had an accuracy of: {0:2.2f}%'.format(dtc_acc*100))\n",
    "print('A Decision Tree algorithm had an accuracy of: {0:2.2f}%'.format(dtc_acc1*100))\n",
    "print('A Decision Tree algorithm had an accuracy of: {0:2.2f}%'.format(dtc_acc2*100))"
   ]
  },
  {
   "cell_type": "code",
   "execution_count": 30,
   "metadata": {},
   "outputs": [
    {
     "data": {
      "text/html": [
       "<div>\n",
       "<style scoped>\n",
       "    .dataframe tbody tr th:only-of-type {\n",
       "        vertical-align: middle;\n",
       "    }\n",
       "\n",
       "    .dataframe tbody tr th {\n",
       "        vertical-align: top;\n",
       "    }\n",
       "\n",
       "    .dataframe thead th {\n",
       "        text-align: right;\n",
       "    }\n",
       "</style>\n",
       "<table border=\"1\" class=\"dataframe\">\n",
       "  <thead>\n",
       "    <tr style=\"text-align: right;\">\n",
       "      <th></th>\n",
       "      <th>id</th>\n",
       "      <th>features</th>\n",
       "      <th>prediction</th>\n",
       "      <th>probability</th>\n",
       "    </tr>\n",
       "  </thead>\n",
       "  <tbody>\n",
       "    <tr>\n",
       "      <th>0</th>\n",
       "      <td>36306</td>\n",
       "      <td>(0.0, 1.0, 80.0, 0.0, 0.0, 1.0, 1.0, 0.0, 0.0,...</td>\n",
       "      <td>0.0</td>\n",
       "      <td>[0.9404915912031048, 0.059508408796895215]</td>\n",
       "    </tr>\n",
       "    <tr>\n",
       "      <th>1</th>\n",
       "      <td>61829</td>\n",
       "      <td>(1.0, 0.0, 74.0, 0.0, 1.0, 1.0, 0.0, 1.0, 0.0,...</td>\n",
       "      <td>0.0</td>\n",
       "      <td>[0.8240740740740741, 0.17592592592592593]</td>\n",
       "    </tr>\n",
       "    <tr>\n",
       "      <th>2</th>\n",
       "      <td>14152</td>\n",
       "      <td>(1.0, 0.0, 14.0, 0.0, 0.0, 0.0, 0.0, 0.0, 1.0,...</td>\n",
       "      <td>0.0</td>\n",
       "      <td>[0.9998257991464158, 0.00017420085358418256]</td>\n",
       "    </tr>\n",
       "    <tr>\n",
       "      <th>3</th>\n",
       "      <td>12997</td>\n",
       "      <td>(0.0, 1.0, 28.0, 0.0, 0.0, 0.0, 1.0, 0.0, 0.0,...</td>\n",
       "      <td>0.0</td>\n",
       "      <td>[0.9998257991464158, 0.00017420085358418256]</td>\n",
       "    </tr>\n",
       "    <tr>\n",
       "      <th>4</th>\n",
       "      <td>40801</td>\n",
       "      <td>(1.0, 0.0, 63.0, 0.0, 0.0, 1.0, 0.0, 0.0, 0.0,...</td>\n",
       "      <td>0.0</td>\n",
       "      <td>[0.9850675515525006, 0.014932448447499408]</td>\n",
       "    </tr>\n",
       "  </tbody>\n",
       "</table>\n",
       "</div>"
      ],
      "text/plain": [
       "      id                                           features  prediction  \\\n",
       "0  36306  (0.0, 1.0, 80.0, 0.0, 0.0, 1.0, 1.0, 0.0, 0.0,...         0.0   \n",
       "1  61829  (1.0, 0.0, 74.0, 0.0, 1.0, 1.0, 0.0, 1.0, 0.0,...         0.0   \n",
       "2  14152  (1.0, 0.0, 14.0, 0.0, 0.0, 0.0, 0.0, 0.0, 1.0,...         0.0   \n",
       "3  12997  (0.0, 1.0, 28.0, 0.0, 0.0, 0.0, 1.0, 0.0, 0.0,...         0.0   \n",
       "4  40801  (1.0, 0.0, 63.0, 0.0, 0.0, 1.0, 0.0, 0.0, 0.0,...         0.0   \n",
       "\n",
       "                                    probability  \n",
       "0    [0.9404915912031048, 0.059508408796895215]  \n",
       "1     [0.8240740740740741, 0.17592592592592593]  \n",
       "2  [0.9998257991464158, 0.00017420085358418256]  \n",
       "3  [0.9998257991464158, 0.00017420085358418256]  \n",
       "4    [0.9850675515525006, 0.014932448447499408]  "
      ]
     },
     "execution_count": 30,
     "metadata": {},
     "output_type": "execute_result"
    }
   ],
   "source": [
    "# now predicting the labels for test data\n",
    "test_pred = model.transform(test_f)\n",
    "test_selected = test_pred.select(\"id\", \"features\", \"prediction\",\"probability\")\n",
    "test_selected.limit(5).toPandas()"
   ]
  },
  {
   "cell_type": "code",
   "execution_count": 27,
   "metadata": {},
   "outputs": [
    {
     "data": {
      "text/html": [
       "<div>\n",
       "<style scoped>\n",
       "    .dataframe tbody tr th:only-of-type {\n",
       "        vertical-align: middle;\n",
       "    }\n",
       "\n",
       "    .dataframe tbody tr th {\n",
       "        vertical-align: top;\n",
       "    }\n",
       "\n",
       "    .dataframe thead th {\n",
       "        text-align: right;\n",
       "    }\n",
       "</style>\n",
       "<table border=\"1\" class=\"dataframe\">\n",
       "  <thead>\n",
       "    <tr style=\"text-align: right;\">\n",
       "      <th></th>\n",
       "      <th>0</th>\n",
       "      <th>1</th>\n",
       "      <th>2</th>\n",
       "      <th>3</th>\n",
       "      <th>4</th>\n",
       "    </tr>\n",
       "  </thead>\n",
       "  <tbody>\n",
       "    <tr>\n",
       "      <th>id</th>\n",
       "      <td>30669</td>\n",
       "      <td>30468</td>\n",
       "      <td>16523</td>\n",
       "      <td>56543</td>\n",
       "      <td>46136</td>\n",
       "    </tr>\n",
       "    <tr>\n",
       "      <th>gender</th>\n",
       "      <td>Male</td>\n",
       "      <td>Male</td>\n",
       "      <td>Female</td>\n",
       "      <td>Female</td>\n",
       "      <td>Male</td>\n",
       "    </tr>\n",
       "    <tr>\n",
       "      <th>age</th>\n",
       "      <td>3</td>\n",
       "      <td>58</td>\n",
       "      <td>8</td>\n",
       "      <td>70</td>\n",
       "      <td>14</td>\n",
       "    </tr>\n",
       "    <tr>\n",
       "      <th>hypertension</th>\n",
       "      <td>0</td>\n",
       "      <td>1</td>\n",
       "      <td>0</td>\n",
       "      <td>0</td>\n",
       "      <td>0</td>\n",
       "    </tr>\n",
       "    <tr>\n",
       "      <th>heart_disease</th>\n",
       "      <td>0</td>\n",
       "      <td>0</td>\n",
       "      <td>0</td>\n",
       "      <td>0</td>\n",
       "      <td>0</td>\n",
       "    </tr>\n",
       "    <tr>\n",
       "      <th>ever_married</th>\n",
       "      <td>No</td>\n",
       "      <td>Yes</td>\n",
       "      <td>No</td>\n",
       "      <td>Yes</td>\n",
       "      <td>No</td>\n",
       "    </tr>\n",
       "    <tr>\n",
       "      <th>work_type</th>\n",
       "      <td>children</td>\n",
       "      <td>Private</td>\n",
       "      <td>Private</td>\n",
       "      <td>Private</td>\n",
       "      <td>Never_worked</td>\n",
       "    </tr>\n",
       "    <tr>\n",
       "      <th>Residence_type</th>\n",
       "      <td>Rural</td>\n",
       "      <td>Urban</td>\n",
       "      <td>Urban</td>\n",
       "      <td>Rural</td>\n",
       "      <td>Rural</td>\n",
       "    </tr>\n",
       "    <tr>\n",
       "      <th>avg_glucose_level</th>\n",
       "      <td>95.12</td>\n",
       "      <td>87.96</td>\n",
       "      <td>110.89</td>\n",
       "      <td>69.04</td>\n",
       "      <td>161.28</td>\n",
       "    </tr>\n",
       "    <tr>\n",
       "      <th>bmi</th>\n",
       "      <td>18</td>\n",
       "      <td>39.2</td>\n",
       "      <td>17.6</td>\n",
       "      <td>35.9</td>\n",
       "      <td>19.1</td>\n",
       "    </tr>\n",
       "    <tr>\n",
       "      <th>smoking_status</th>\n",
       "      <td>None</td>\n",
       "      <td>never smoked</td>\n",
       "      <td>None</td>\n",
       "      <td>formerly smoked</td>\n",
       "      <td>None</td>\n",
       "    </tr>\n",
       "    <tr>\n",
       "      <th>stroke</th>\n",
       "      <td>0</td>\n",
       "      <td>0</td>\n",
       "      <td>0</td>\n",
       "      <td>0</td>\n",
       "      <td>0</td>\n",
       "    </tr>\n",
       "  </tbody>\n",
       "</table>\n",
       "</div>"
      ],
      "text/plain": [
       "                          0             1        2                3  \\\n",
       "id                    30669         30468    16523            56543   \n",
       "gender                 Male          Male   Female           Female   \n",
       "age                       3            58        8               70   \n",
       "hypertension              0             1        0                0   \n",
       "heart_disease             0             0        0                0   \n",
       "ever_married             No           Yes       No              Yes   \n",
       "work_type          children       Private  Private          Private   \n",
       "Residence_type        Rural         Urban    Urban            Rural   \n",
       "avg_glucose_level     95.12         87.96   110.89            69.04   \n",
       "bmi                      18          39.2     17.6             35.9   \n",
       "smoking_status         None  never smoked     None  formerly smoked   \n",
       "stroke                    0             0        0                0   \n",
       "\n",
       "                              4  \n",
       "id                        46136  \n",
       "gender                     Male  \n",
       "age                          14  \n",
       "hypertension                  0  \n",
       "heart_disease                 0  \n",
       "ever_married                 No  \n",
       "work_type          Never_worked  \n",
       "Residence_type            Rural  \n",
       "avg_glucose_level        161.28  \n",
       "bmi                        19.1  \n",
       "smoking_status             None  \n",
       "stroke                        0  "
      ]
     },
     "execution_count": 27,
     "metadata": {},
     "output_type": "execute_result"
    }
   ],
   "source": [
    "import pandas as pd\n",
    "df=pd.DataFrame(train.take(5), columns=train.columns).transpose()\n",
    "df\n"
   ]
  },
  {
   "cell_type": "code",
   "execution_count": 28,
   "metadata": {},
   "outputs": [],
   "source": [
    "train_data, test_data = train.randomSplit([0.8, 0.2])\n",
    "\n"
   ]
  },
  {
   "cell_type": "code",
   "execution_count": 29,
   "metadata": {},
   "outputs": [
    {
     "data": {
      "text/html": [
       "<div>\n",
       "<style scoped>\n",
       "    .dataframe tbody tr th:only-of-type {\n",
       "        vertical-align: middle;\n",
       "    }\n",
       "\n",
       "    .dataframe tbody tr th {\n",
       "        vertical-align: top;\n",
       "    }\n",
       "\n",
       "    .dataframe thead th {\n",
       "        text-align: right;\n",
       "    }\n",
       "</style>\n",
       "<table border=\"1\" class=\"dataframe\">\n",
       "  <thead>\n",
       "    <tr style=\"text-align: right;\">\n",
       "      <th></th>\n",
       "      <th>0</th>\n",
       "      <th>1</th>\n",
       "      <th>2</th>\n",
       "      <th>3</th>\n",
       "      <th>4</th>\n",
       "    </tr>\n",
       "  </thead>\n",
       "  <tbody>\n",
       "    <tr>\n",
       "      <th>summary</th>\n",
       "      <td>count</td>\n",
       "      <td>mean</td>\n",
       "      <td>stddev</td>\n",
       "      <td>min</td>\n",
       "      <td>max</td>\n",
       "    </tr>\n",
       "    <tr>\n",
       "      <th>id</th>\n",
       "      <td>34711</td>\n",
       "      <td>36431.5460516839</td>\n",
       "      <td>21062.155305279797</td>\n",
       "      <td>1</td>\n",
       "      <td>72943</td>\n",
       "    </tr>\n",
       "    <tr>\n",
       "      <th>gender</th>\n",
       "      <td>34711</td>\n",
       "      <td>None</td>\n",
       "      <td>None</td>\n",
       "      <td>Female</td>\n",
       "      <td>Other</td>\n",
       "    </tr>\n",
       "    <tr>\n",
       "      <th>age</th>\n",
       "      <td>34711</td>\n",
       "      <td>42.18346806487844</td>\n",
       "      <td>22.51816458188748</td>\n",
       "      <td>0.08</td>\n",
       "      <td>82.0</td>\n",
       "    </tr>\n",
       "    <tr>\n",
       "      <th>hypertension</th>\n",
       "      <td>34711</td>\n",
       "      <td>0.09423525683500908</td>\n",
       "      <td>0.29215994299882314</td>\n",
       "      <td>0</td>\n",
       "      <td>1</td>\n",
       "    </tr>\n",
       "    <tr>\n",
       "      <th>heart_disease</th>\n",
       "      <td>34711</td>\n",
       "      <td>0.04646941891619372</td>\n",
       "      <td>0.21050246696769684</td>\n",
       "      <td>0</td>\n",
       "      <td>1</td>\n",
       "    </tr>\n",
       "    <tr>\n",
       "      <th>ever_married</th>\n",
       "      <td>34711</td>\n",
       "      <td>None</td>\n",
       "      <td>None</td>\n",
       "      <td>No</td>\n",
       "      <td>Yes</td>\n",
       "    </tr>\n",
       "    <tr>\n",
       "      <th>work_type</th>\n",
       "      <td>34711</td>\n",
       "      <td>None</td>\n",
       "      <td>None</td>\n",
       "      <td>Govt_job</td>\n",
       "      <td>children</td>\n",
       "    </tr>\n",
       "    <tr>\n",
       "      <th>Residence_type</th>\n",
       "      <td>34711</td>\n",
       "      <td>None</td>\n",
       "      <td>None</td>\n",
       "      <td>Rural</td>\n",
       "      <td>Urban</td>\n",
       "    </tr>\n",
       "    <tr>\n",
       "      <th>avg_glucose_level</th>\n",
       "      <td>34711</td>\n",
       "      <td>104.34390250929103</td>\n",
       "      <td>43.03271711899894</td>\n",
       "      <td>55.0</td>\n",
       "      <td>281.59</td>\n",
       "    </tr>\n",
       "    <tr>\n",
       "      <th>bmi</th>\n",
       "      <td>33544</td>\n",
       "      <td>28.63768483186258</td>\n",
       "      <td>7.831527331127319</td>\n",
       "      <td>10.1</td>\n",
       "      <td>97.6</td>\n",
       "    </tr>\n",
       "    <tr>\n",
       "      <th>smoking_status</th>\n",
       "      <td>24089</td>\n",
       "      <td>None</td>\n",
       "      <td>None</td>\n",
       "      <td>formerly smoked</td>\n",
       "      <td>smokes</td>\n",
       "    </tr>\n",
       "    <tr>\n",
       "      <th>stroke</th>\n",
       "      <td>34711</td>\n",
       "      <td>0.018005819480856212</td>\n",
       "      <td>0.13297413039895203</td>\n",
       "      <td>0</td>\n",
       "      <td>1</td>\n",
       "    </tr>\n",
       "  </tbody>\n",
       "</table>\n",
       "</div>"
      ],
      "text/plain": [
       "                       0                     1                    2  \\\n",
       "summary            count                  mean               stddev   \n",
       "id                 34711      36431.5460516839   21062.155305279797   \n",
       "gender             34711                  None                 None   \n",
       "age                34711     42.18346806487844    22.51816458188748   \n",
       "hypertension       34711   0.09423525683500908  0.29215994299882314   \n",
       "heart_disease      34711   0.04646941891619372  0.21050246696769684   \n",
       "ever_married       34711                  None                 None   \n",
       "work_type          34711                  None                 None   \n",
       "Residence_type     34711                  None                 None   \n",
       "avg_glucose_level  34711    104.34390250929103    43.03271711899894   \n",
       "bmi                33544     28.63768483186258    7.831527331127319   \n",
       "smoking_status     24089                  None                 None   \n",
       "stroke             34711  0.018005819480856212  0.13297413039895203   \n",
       "\n",
       "                                 3         4  \n",
       "summary                        min       max  \n",
       "id                               1     72943  \n",
       "gender                      Female     Other  \n",
       "age                           0.08      82.0  \n",
       "hypertension                     0         1  \n",
       "heart_disease                    0         1  \n",
       "ever_married                    No       Yes  \n",
       "work_type                 Govt_job  children  \n",
       "Residence_type               Rural     Urban  \n",
       "avg_glucose_level             55.0    281.59  \n",
       "bmi                           10.1      97.6  \n",
       "smoking_status     formerly smoked    smokes  \n",
       "stroke                           0         1  "
      ]
     },
     "execution_count": 29,
     "metadata": {},
     "output_type": "execute_result"
    }
   ],
   "source": [
    "train_data.describe().toPandas().transpose()\n",
    "\n"
   ]
  },
  {
   "cell_type": "code",
   "execution_count": 30,
   "metadata": {},
   "outputs": [
    {
     "data": {
      "image/png": "[encoded data removed]",
      "text/plain": [
       "<Figure size 864x864 with 49 Axes>"
      ]
     },
     "metadata": {
      "needs_background": "light"
     },
     "output_type": "display_data"
    }
   ],
   "source": [
    "import matplotlib.pyplot as plt\n",
    "# Correlation analysis\n",
    "numeric_features = [t[0] for t in\n",
    " train_data.dtypes if t[1] == \"int\" or t[1]== \"double\"]\n",
    "sample_d=train_data.select(numeric_features) \\\n",
    ".sample(False,1.0).toPandas()\n",
    "\n",
    "axs = pd.plotting.scatter_matrix(sample_d, figsize=(12, 12))\n",
    "# Rotate axis labels and remove axis ticks\n",
    "n = len(sample_d.columns)\n",
    "for i in range(n):\n",
    " v = axs[i, 0]\n",
    " v.yaxis.label.set_rotation(0)\n",
    " v.yaxis.label.set_ha('right')\n",
    " v.set_yticks(())\n",
    " h = axs[n-1, i]\n",
    " h.xaxis.label.set_rotation(90)\n",
    " h.set_xticks(())\n",
    "#Show the data plotting\n",
    "plt.show()\n"
   ]
  },
  {
   "cell_type": "code",
   "execution_count": null,
   "metadata": {},
   "outputs": [],
   "source": []
  }
 ],
 "metadata": {
  "kernelspec": {
   "display_name": "Python 3",
   "language": "python",
   "name": "python3"
  },
  "language_info": {
   "codemirror_mode": {
    "name": "ipython",
    "version": 3
   },
   "file_extension": ".py",
   "mimetype": "text/x-python",
   "name": "python",
   "nbconvert_exporter": "python",
   "pygments_lexer": "ipython3",
   "version": "3.7.6"
  }
 },
 "nbformat": 4,
 "nbformat_minor": 4
}
